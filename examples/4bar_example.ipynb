{
 "cells": [
  {
   "cell_type": "code",
   "execution_count": 1,
   "id": "b183ffc4-3db7-4a4b-8fc7-75cbc8d5e1f5",
   "metadata": {},
   "outputs": [
    {
     "ename": "SyntaxError",
     "evalue": "EOF while scanning triple-quoted string literal (210905999.py, line 41)",
     "output_type": "error",
     "traceback": [
      "\u001b[1;36m  Cell \u001b[1;32mIn[1], line 41\u001b[1;36m\u001b[0m\n\u001b[1;33m    ani.save('../animations/fourbarlinkage_wl.mp4', dpi=300)\u001b[0m\n\u001b[1;37m                                                            \n^\u001b[0m\n\u001b[1;31mSyntaxError\u001b[0m\u001b[1;31m:\u001b[0m EOF while scanning triple-quoted string literal\n"
     ]
    }
   ],
   "source": [
    "from mechanism import *\n",
    "import numpy as np\n",
    "import matplotlib.pyplot as plt\n",
    "\n",
    "# Joint.follow_all = True  # You can trace the path of all joints by uncommenting this\n",
    "\n",
    "O, A, B, C, D = get_joints('O A B C D')\n",
    "\n",
    "\"\"\"\n",
    "#trace the pathes of joint D and B\n",
    "\"\"\"\n",
    "D.follow = True \n",
    "B.follow = True \n",
    "\n",
    "a = Vector((O, A), r=5)\n",
    "# b = Vector((O, C), r=8, theta=np.deg2rad(90), style='ground')  # Use this vector for a cusp output\n",
    "b = Vector((O, C), r=8, theta=0, style='ground') #theta defined means vector b is stationary, r defined mean it'll remain at length\n",
    "c = Vector((A, B), r=8)\n",
    "d = Vector((C, B), r=9)\n",
    "e = Vector((A, D), r=4)\n",
    "f = Vector((O, D), show=False)\n",
    "\n",
    "\n",
    "def loops(x, inp):\n",
    "    # Note: The way this is structured with the second loop equation is only appropriate for position analysis.\n",
    "    temp = np.zeros((2, 2))\n",
    "    temp[0] = a(inp) + c(x[0]) - d(x[1]) - b()\n",
    "    temp[1] = a(inp) + e(x[0] + np.deg2rad(30)) - f(x[2], x[3])\n",
    "    return temp.flatten()\n",
    "\n",
    "\n",
    "t2 = np.linspace(0, 6*np.pi, 300) #300 positions of 6pi (3rev) rotation\n",
    "guess = np.concatenate((np.deg2rad([50, 120]), np.array([5]), np.deg2rad([50])))\n",
    "mechanism = Mechanism(vectors=(a, b, c, d, e, f), origin=O, pos=t2, guess=(guess, ),\n",
    "                      loops=loops)\n",
    "\n",
    "mechanism.iterate()\n",
    "ani, fig, ax = mechanism.get_animation()\n",
    "\n",
    "ax.set_title('Four Bar Linkage')\n",
    "\n",
    "plt.show()\n",
    "\n",
    "ani.save('../animations/fourbarlinkage_wl.mp4', dpi=300)\n"
   ]
  },
  {
   "cell_type": "code",
   "execution_count": null,
   "id": "07d1bd80-5967-414b-89b6-95eb9b1eed3b",
   "metadata": {},
   "outputs": [],
   "source": []
  }
 ],
 "metadata": {
  "kernelspec": {
   "display_name": "Python 3 (ipykernel)",
   "language": "python",
   "name": "python3"
  },
  "language_info": {
   "codemirror_mode": {
    "name": "ipython",
    "version": 3
   },
   "file_extension": ".py",
   "mimetype": "text/x-python",
   "name": "python",
   "nbconvert_exporter": "python",
   "pygments_lexer": "ipython3",
   "version": "3.9.19"
  }
 },
 "nbformat": 4,
 "nbformat_minor": 5
}
